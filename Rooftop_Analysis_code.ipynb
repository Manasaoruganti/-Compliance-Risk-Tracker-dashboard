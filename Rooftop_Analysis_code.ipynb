{
  "nbformat": 4,
  "nbformat_minor": 0,
  "metadata": {
    "colab": {
      "provenance": [],
      "authorship_tag": "ABX9TyOAeY3W67VE2uGptjUMBmaS",
      "include_colab_link": true
    },
    "kernelspec": {
      "name": "python3",
      "display_name": "Python 3"
    },
    "language_info": {
      "name": "python"
    }
  },
  "cells": [
    {
      "cell_type": "markdown",
      "metadata": {
        "id": "view-in-github",
        "colab_type": "text"
      },
      "source": [
        "<a href=\"https://colab.research.google.com/github/Manasaoruganti/-Compliance-Risk-Tracker-dashboard/blob/main/Rooftop_Analysis_code.ipynb\" target=\"_parent\"><img src=\"https://colab.research.google.com/assets/colab-badge.svg\" alt=\"Open In Colab\"/></a>"
      ]
    },
    {
      "cell_type": "code",
      "execution_count": null,
      "metadata": {
        "colab": {
          "base_uri": "https://localhost:8080/"
        },
        "id": "zTToq1-8Xjrr",
        "outputId": "aa9a3870-7c4e-4849-f777-66f54e1005a6"
      },
      "outputs": [
        {
          "output_type": "stream",
          "name": "stdout",
          "text": [
            "Data successfully processed and saved to RTS_Installation_Summary.csv\n"
          ]
        }
      ],
      "source": [
        "import pandas as pd\n",
        "\n",
        "# Load the datasets (Excel files)\n",
        "buildings_df = pd.read_excel('/content/Buildings data.xlsx')\n",
        "sites_df = pd.read_excel('/content/Sites data.xlsx')\n",
        "\n",
        "# Select relevant columns from Buildings data and rename for consistency\n",
        "buildings_cols = ['SITE NAME', 'TOTAL ROOFTOP AREA AVAILABLE IN (sq.m)',\n",
        "                  'TOTAL FEASIBLE AREA FOR RTS INSTALLATION IN (sq.m)',\n",
        "                  'TOTAL FEASIBLE CAPACITY FOR RTS INSTALLATION (kW)',\n",
        "                  'CURRENT STATUS OF RTS INSTALLATION - INSTALLED CAPACITY IN (kW)']\n",
        "buildings_df_selected = buildings_df[buildings_cols].copy()\n",
        "buildings_df_selected.rename(columns={'TOTAL ROOFTOP AREA AVAILABLE IN (sq.m)': 'TOTAL ROOFTOP AREA AVAILABLE (sq.m)'}, inplace=True)\n",
        "\n",
        "# Select relevant columns from Sites data and rename for consistency\n",
        "sites_cols = ['State', 'SITE NAME', 'SANCTIONED LOAD (kW)']\n",
        "sites_df_selected = sites_df[sites_cols].copy()\n",
        "sites_df_selected.rename(columns={'State': 'state', 'SANCTIONED LOAD (kW)': 'sanctioned load'}, inplace=True)\n",
        "\n",
        "# Merge the two dataframes\n",
        "# Use outer merge to keep all records and fill missing values as needed, although left merge would also work given the problem description.\n",
        "merged_df = pd.merge(buildings_df_selected, sites_df_selected, on='SITE NAME', how='left')\n",
        "\n",
        "# Calculate 'No. of Buildings of that site'\n",
        "num_buildings_per_site = merged_df.groupby('SITE NAME').size().reset_index(name='No. of Buildings of that site')\n",
        "\n",
        "# Calculate 'No. of Buildings of the particular site in particular state'\n",
        "num_buildings_per_site_state = merged_df.groupby(['state', 'SITE NAME']).size().reset_index(name='no of buildings of the perticular site in perticular state')\n",
        "\n",
        "# Group by 'state' and 'SITE NAME' and aggregate data\n",
        "final_df = merged_df.groupby(['state', 'SITE NAME']).agg(\n",
        "    # Sum 'TOTAL ROOFTOP AREA AVAILABLE (sq.m)' for 'Total Rooftop area' per site\n",
        "    Total_Rooftop_area=('TOTAL ROOFTOP AREA AVAILABLE (sq.m)', 'sum'),\n",
        "    # Use first for 'Sanctioned Load' because it should be constant per site\n",
        "    Sanctioned_Load=('sanctioned load', 'first'),\n",
        "    Total_Feasible_Area_RTS_Installation_sq_m=('TOTAL FEASIBLE AREA FOR RTS INSTALLATION IN (sq.m)', 'sum'),\n",
        "    Total_Feasible_Capacity_RTS_Installation_kW=('TOTAL FEASIBLE CAPACITY FOR RTS INSTALLATION (kW)', 'sum'),\n",
        "    Current_Status_RTS_Installation_Installed_Capacity_kW=('CURRENT STATUS OF RTS INSTALLATION - INSTALLED CAPACITY IN (kW)', 'sum')\n",
        ").reset_index()\n",
        "\n",
        "# Merge the building counts back into the final_df\n",
        "final_df = pd.merge(final_df, num_buildings_per_site, on='SITE NAME', how='left')\n",
        "final_df = pd.merge(final_df, num_buildings_per_site_state, on=['state', 'SITE NAME'], how='left')\n",
        "\n",
        "\n",
        "# Calculate Tentative Capacity: Compare the sanctioned load and feasible capacity and take the min of both\n",
        "# As assumed, 'feasible area' in the user's prompt meant 'TOTAL FEASIBLE CAPACITY FOR RTS INSTALLATION (kW)'\n",
        "final_df['Tentative Capacity(Compare the sanctioned load and feasible area and take the min of both )'] = \\\n",
        "    final_df[['Sanctioned_Load', 'Total_Feasible_Capacity_RTS_Installation_kW']].min(axis=1)\n",
        "\n",
        "# Rename columns to match desired output headers\n",
        "final_df = final_df.rename(columns={\n",
        "    'SITE NAME': 'SITE name of perticular state',\n",
        "    'Total_Rooftop_area': 'Total Rooftop area',\n",
        "    'Sanctioned_Load': 'Sanctioned Load',\n",
        "    'Total_Feasible_Area_RTS_Installation_sq_m': 'TOTAL FEASIBLE AREA FOR RTS INSTALLATION IN (sq.m)',\n",
        "    'Total_Feasible_Capacity_RTS_Installation_kW': 'TOTAL FEASIBLE CAPACITY FOR RTS INSTALLATION (kW)',\n",
        "    'Current_Status_RTS_Installation_Installed_Capacity_kW': 'CURRENT STATUS OF RTS INSTALLATION - INSTALLED CAPACITY IN (kW)'\n",
        "})\n",
        "\n",
        "# Reorder columns to match the requested output\n",
        "output_columns = [\n",
        "    'state',\n",
        "    'SITE name of perticular state',\n",
        "    'No. of Buildings of that site',\n",
        "    'Total Rooftop area',\n",
        "    'Sanctioned Load',\n",
        "    'TOTAL FEASIBLE AREA FOR RTS INSTALLATION IN (sq.m)',\n",
        "    'Tentative Capacity(Compare the sanctioned load and feasible area and take the min of both )',\n",
        "    'TOTAL FEASIBLE CAPACITY FOR RTS INSTALLATION (kW)',\n",
        "    'CURRENT STATUS OF RTS INSTALLATION - INSTALLED CAPACITY IN (kW)',\n",
        "    'no of buildings of the perticular site in perticular state'\n",
        "]\n",
        "\n",
        "final_df = final_df[output_columns]\n",
        "\n",
        "# Save the final DataFrame to a new CSV file\n",
        "output_filename = 'RTS_Installation_Summary.csv'\n",
        "final_df.to_csv(output_filename, index=False)\n",
        "\n",
        "print(f\"Data successfully processed and saved to {output_filename}\")"
      ]
    },
    {
      "cell_type": "code",
      "source": [],
      "metadata": {
        "id": "F2L4h-KOYJoU"
      },
      "execution_count": null,
      "outputs": []
    },
    {
      "cell_type": "code",
      "source": [],
      "metadata": {
        "id": "n-YecdR6ZA-U"
      },
      "execution_count": null,
      "outputs": []
    }
  ]
}